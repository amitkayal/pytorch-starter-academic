{
  "nbformat": 4,
  "nbformat_minor": 0,
  "metadata": {
    "colab": {
      "name": "SiameseBERT-SemanticSearch.ipynb",
      "provenance": [],
      "collapsed_sections": [],
      "include_colab_link": true
    },
    "kernelspec": {
      "name": "python3",
      "display_name": "Python 3"
    },
    "accelerator": "GPU"
  },
  "cells": [
    {
      "cell_type": "markdown",
      "metadata": {
        "id": "view-in-github",
        "colab_type": "text"
      },
      "source": [
        "<a href=\"https://colab.research.google.com/github/dlmacedo/starter-academic/blob/master/content/courses/deeplearning/notebooks/SiameseBERT_SemanticSearch.ipynb\" target=\"_parent\"><img src=\"https://colab.research.google.com/assets/colab-badge.svg\" alt=\"Open In Colab\"/></a>"
      ]
    },
    {
      "cell_type": "markdown",
      "metadata": {
        "id": "liIk8f980xT5"
      },
      "source": [
        "# Sentence Embeddings using Siamese BERT-Networks\n",
        "---\n",
        "This Google Colab Notebook illustrates using the Sentence Transformer python library to quickly create BERT embeddings for sentences and perform fast semantic searches.\n",
        "\n",
        "The Sentence Transformer library is available on [pypi](https://pypi.org/project/sentence-transformers/) and [github](https://github.com/UKPLab/sentence-transformers). The library implements code from the ACL 2019 paper entitled \"[Sentence-BERT: Sentence Embeddings using Siamese BERT-Networks](https://www.aclweb.org/anthology/D19-1410.pdf)\" by Nils Reimers and Iryna Gurevych.\n"
      ]
    },
    {
      "cell_type": "markdown",
      "metadata": {
        "id": "bzljhyTQEZds"
      },
      "source": [
        "## Install Sentence Transformer Library"
      ]
    },
    {
      "cell_type": "code",
      "metadata": {
        "id": "AmxRYxNDvn6y",
        "outputId": "d2f93b4b-0986-4b04-ca2e-751586159525",
        "colab": {
          "base_uri": "https://localhost:8080/",
          "height": 462
        }
      },
      "source": [
        "# Install the library using pip\n",
        "!pip install sentence-transformers"
      ],
      "execution_count": 6,
      "outputs": [
        {
          "output_type": "stream",
          "text": [
            "Requirement already satisfied: sentence-transformers in /usr/local/lib/python3.6/dist-packages (0.3.7.2)\n",
            "Requirement already satisfied: scipy in /usr/local/lib/python3.6/dist-packages (from sentence-transformers) (1.4.1)\n",
            "Requirement already satisfied: scikit-learn in /usr/local/lib/python3.6/dist-packages (from sentence-transformers) (0.22.2.post1)\n",
            "Requirement already satisfied: torch>=1.2.0 in /usr/local/lib/python3.6/dist-packages (from sentence-transformers) (1.6.0+cu101)\n",
            "Requirement already satisfied: nltk in /usr/local/lib/python3.6/dist-packages (from sentence-transformers) (3.2.5)\n",
            "Requirement already satisfied: transformers<3.4.0,>=3.1.0 in /usr/local/lib/python3.6/dist-packages (from sentence-transformers) (3.3.1)\n",
            "Requirement already satisfied: numpy in /usr/local/lib/python3.6/dist-packages (from sentence-transformers) (1.18.5)\n",
            "Requirement already satisfied: tqdm in /usr/local/lib/python3.6/dist-packages (from sentence-transformers) (4.41.1)\n",
            "Requirement already satisfied: joblib>=0.11 in /usr/local/lib/python3.6/dist-packages (from scikit-learn->sentence-transformers) (0.16.0)\n",
            "Requirement already satisfied: future in /usr/local/lib/python3.6/dist-packages (from torch>=1.2.0->sentence-transformers) (0.16.0)\n",
            "Requirement already satisfied: six in /usr/local/lib/python3.6/dist-packages (from nltk->sentence-transformers) (1.15.0)\n",
            "Requirement already satisfied: tokenizers==0.8.1.rc2 in /usr/local/lib/python3.6/dist-packages (from transformers<3.4.0,>=3.1.0->sentence-transformers) (0.8.1rc2)\n",
            "Requirement already satisfied: filelock in /usr/local/lib/python3.6/dist-packages (from transformers<3.4.0,>=3.1.0->sentence-transformers) (3.0.12)\n",
            "Requirement already satisfied: requests in /usr/local/lib/python3.6/dist-packages (from transformers<3.4.0,>=3.1.0->sentence-transformers) (2.23.0)\n",
            "Requirement already satisfied: packaging in /usr/local/lib/python3.6/dist-packages (from transformers<3.4.0,>=3.1.0->sentence-transformers) (20.4)\n",
            "Requirement already satisfied: sentencepiece!=0.1.92 in /usr/local/lib/python3.6/dist-packages (from transformers<3.4.0,>=3.1.0->sentence-transformers) (0.1.91)\n",
            "Requirement already satisfied: dataclasses; python_version < \"3.7\" in /usr/local/lib/python3.6/dist-packages (from transformers<3.4.0,>=3.1.0->sentence-transformers) (0.7)\n",
            "Requirement already satisfied: sacremoses in /usr/local/lib/python3.6/dist-packages (from transformers<3.4.0,>=3.1.0->sentence-transformers) (0.0.43)\n",
            "Requirement already satisfied: regex!=2019.12.17 in /usr/local/lib/python3.6/dist-packages (from transformers<3.4.0,>=3.1.0->sentence-transformers) (2019.12.20)\n",
            "Requirement already satisfied: urllib3!=1.25.0,!=1.25.1,<1.26,>=1.21.1 in /usr/local/lib/python3.6/dist-packages (from requests->transformers<3.4.0,>=3.1.0->sentence-transformers) (1.24.3)\n",
            "Requirement already satisfied: idna<3,>=2.5 in /usr/local/lib/python3.6/dist-packages (from requests->transformers<3.4.0,>=3.1.0->sentence-transformers) (2.10)\n",
            "Requirement already satisfied: chardet<4,>=3.0.2 in /usr/local/lib/python3.6/dist-packages (from requests->transformers<3.4.0,>=3.1.0->sentence-transformers) (3.0.4)\n",
            "Requirement already satisfied: certifi>=2017.4.17 in /usr/local/lib/python3.6/dist-packages (from requests->transformers<3.4.0,>=3.1.0->sentence-transformers) (2020.6.20)\n",
            "Requirement already satisfied: pyparsing>=2.0.2 in /usr/local/lib/python3.6/dist-packages (from packaging->transformers<3.4.0,>=3.1.0->sentence-transformers) (2.4.7)\n",
            "Requirement already satisfied: click in /usr/local/lib/python3.6/dist-packages (from sacremoses->transformers<3.4.0,>=3.1.0->sentence-transformers) (7.1.2)\n"
          ],
          "name": "stdout"
        }
      ]
    },
    {
      "cell_type": "markdown",
      "metadata": {
        "id": "eIAKz6KVEndZ"
      },
      "source": [
        "## Load the BERT Model"
      ]
    },
    {
      "cell_type": "code",
      "metadata": {
        "id": "5IO_j2Ofv5pq"
      },
      "source": [
        "from sentence_transformers import SentenceTransformer\n",
        "\n",
        "# Load the BERT model. Various models trained on Natural Language Inference (NLI) https://github.com/UKPLab/sentence-transformers/blob/master/docs/pretrained-models/nli-models.md and \n",
        "# Semantic Textual Similarity are available https://github.com/UKPLab/sentence-transformers/blob/master/docs/pretrained-models/sts-models.md\n",
        "\n",
        "model = SentenceTransformer('bert-base-nli-mean-tokens')"
      ],
      "execution_count": 7,
      "outputs": []
    },
    {
      "cell_type": "markdown",
      "metadata": {
        "id": "I7_Ib3ITEwgO"
      },
      "source": [
        "## Setup a Corpus"
      ]
    },
    {
      "cell_type": "code",
      "metadata": {
        "id": "rEa50nefv7HY",
        "outputId": "cad685cf-341f-4b27-f1f0-46f48a14603f",
        "colab": {
          "base_uri": "https://localhost:8080/",
          "height": 1000
        }
      },
      "source": [
        "# A corpus is a list with documents split by sentences.\n",
        "\n",
        "sentences = ['Absence of sanity', \n",
        "             'Lack of saneness',\n",
        "             'A man is eating food.',\n",
        "             'A man is eating a piece of bread.',\n",
        "             'The girl is carrying a baby.',\n",
        "             'A man is riding a horse.',\n",
        "             'A woman is playing violin.',\n",
        "             'Two men pushed carts through the woods.',\n",
        "             'A man is riding a white horse on an enclosed ground.',\n",
        "             'A monkey is playing drums.',\n",
        "             'A cheetah is running behind its prey.']\n",
        "\n",
        "# Each sentence is encoded as a 1-D vector with 78 columns\n",
        "sentence_embeddings = model.encode(sentences)\n",
        "\n",
        "print('Sample BERT embedding vector - length', len(sentence_embeddings[0]))\n",
        "\n",
        "print('Sample BERT embedding vector - note includes negative values', sentence_embeddings[0])"
      ],
      "execution_count": 8,
      "outputs": [
        {
          "output_type": "stream",
          "text": [
            "Sample BERT embedding vector - length 768\n",
            "Sample BERT embedding vector - note includes negative values [ 2.95402825e-01  2.91811436e-01  2.16480160e+00  2.20419198e-01\n",
            " -1.30860629e-02  1.01950359e+00  1.51298213e+00  2.34132811e-01\n",
            "  2.73058593e-01  1.35122627e-01 -1.11313367e+00 -1.25885159e-01\n",
            "  1.45378694e-01  9.77708459e-01  1.39352298e+00  4.57704306e-01\n",
            " -5.82130969e-01 -7.24940896e-01 -3.61734271e-01 -2.27514789e-01\n",
            "  1.66633129e-02  2.04862192e-01  6.55133009e-01 -1.29376435e+00\n",
            " -7.26099849e-01 -1.91136003e-01 -3.07211876e-01 -1.30278635e+00\n",
            " -1.42963850e+00  5.67476451e-03  3.54811549e-01  4.83713061e-01\n",
            "  6.65388227e-01  5.33848941e-01  6.40497327e-01  5.90408921e-01\n",
            "  7.83848614e-02 -1.07759225e+00 -1.24676786e-01 -3.98406178e-01\n",
            "  7.36314595e-01  5.28293431e-01  5.63291430e-01  4.14546102e-01\n",
            "  4.49179500e-01 -9.58792120e-02  1.45424581e+00 -2.69145012e-01\n",
            " -2.44059771e-01 -1.10387063e+00 -2.00922698e-01 -2.17398908e-03\n",
            "  1.83387911e+00  1.06518412e+00 -5.11946559e-01 -1.11248505e+00\n",
            "  5.59790432e-01 -5.89609265e-01  1.07622027e+00  7.49265611e-01\n",
            "  4.32666868e-01  1.76307127e-01 -1.72122773e-02  1.19170882e-01\n",
            " -8.37447822e-01  1.88446343e-01 -7.46703148e-03  1.70309544e-02\n",
            " -4.29176390e-01 -5.72340071e-01  6.22608066e-01 -3.38023901e-01\n",
            "  1.03712559e-01  2.42106915e-01 -9.82075810e-01 -2.63343751e-01\n",
            "  4.15540993e-01  2.79155672e-01 -1.03487469e-01  7.32836902e-01\n",
            "  2.78023303e-01  7.52160192e-01  8.08235526e-01 -4.87503439e-01\n",
            " -7.64051497e-01 -7.08021969e-02  5.39888024e-01  2.24032968e-01\n",
            " -1.66969907e+00 -2.01102093e-01  2.13853806e-01  1.08926737e+00\n",
            "  5.79520047e-01 -3.32589686e-01 -9.75302994e-01  2.37974115e-02\n",
            " -1.68779939e-01  2.63478816e-01  1.64727539e-01  2.03110605e-01\n",
            "  8.12730938e-03  3.75386745e-01  4.53517348e-01  4.21481207e-02\n",
            "  4.72985178e-01  3.53581816e-01 -1.55092776e-01  3.71253014e-01\n",
            "  3.54824632e-01  5.11553399e-02 -9.36767578e-01  1.42013299e+00\n",
            "  7.63064981e-01 -8.58592153e-01 -5.74660182e-01  2.43795272e-02\n",
            " -1.39292622e+00  3.14162850e-01 -2.08903197e-02  4.01286542e-01\n",
            "  8.56514573e-01  2.12013453e-01  1.93166286e-01 -8.65443721e-02\n",
            "  3.66493642e-01 -5.34847498e-01  9.08364296e-01 -1.47460058e-01\n",
            " -4.34119403e-01  1.38952762e-01 -2.85755634e-01  8.91504169e-01\n",
            " -9.49379086e-01 -6.12358861e-02 -1.63512737e-01  2.15337463e-02\n",
            "  9.33668613e-02 -1.83846340e-01 -7.05076531e-02 -9.50029716e-02\n",
            " -7.78035462e-01  5.08425057e-01 -2.38957644e-01  1.18629612e-01\n",
            " -2.22939566e-01 -4.55788314e-01  7.77875721e-01  5.58181942e-01\n",
            " -6.46435678e-01 -3.76423895e-01 -9.94759202e-01 -2.24633187e-01\n",
            "  2.56237447e-01  3.92684162e-01 -3.80206019e-01 -5.66550374e-01\n",
            "  1.06151223e+00  6.39037073e-01  2.45125130e-01 -2.10276037e-01\n",
            " -2.03608438e-01  5.58223009e-01  5.87119460e-02  4.09846485e-01\n",
            "  9.85402465e-02  5.68384714e-02 -3.91428649e-01  2.61983484e-01\n",
            "  1.85061753e-01 -7.71071434e-01  6.81889355e-01 -6.14751637e-01\n",
            " -9.09989178e-01 -5.37011564e-01 -2.67421097e-01  6.41147867e-02\n",
            " -1.47129983e-01  8.36788356e-01  2.73965031e-01  2.99048156e-01\n",
            "  1.75318092e-01 -8.45178217e-02  1.32096422e+00 -1.32269895e+00\n",
            " -8.96274567e-01 -7.21394300e-01  9.03011188e-02 -5.28525352e-01\n",
            " -5.90586364e-02 -1.73461959e-01 -1.08447266e+00 -9.68359292e-01\n",
            "  7.07607269e-01 -1.08554244e+00  7.90791884e-02 -1.23736218e-01\n",
            "  1.04828455e-01 -4.38559711e-01 -9.64854434e-02  1.21586516e-01\n",
            "  7.08319008e-01 -7.40592182e-01 -6.13741688e-02  5.97689450e-01\n",
            "  5.36595404e-01  9.54430878e-01  5.82717843e-02 -7.02314377e-01\n",
            " -5.21191001e-01 -5.31055331e-01 -6.87112749e-01 -2.28840470e-01\n",
            " -1.25095099e-01  3.82895619e-01  9.40875411e-01 -1.53619981e+00\n",
            "  3.08551311e-01 -1.07018864e+00 -9.22978073e-02  1.83376968e-01\n",
            "  2.36132354e-01 -9.44777668e-01  3.63419235e-01  1.02014720e-01\n",
            " -2.61932492e-01  1.31475377e+00 -8.66965130e-02  4.19598252e-01\n",
            " -5.64484835e-01 -2.40892366e-01  9.56289098e-02  2.88402587e-01\n",
            " -1.26559567e+00  9.68204513e-02 -6.86096966e-01 -9.73237038e-01\n",
            "  4.98169571e-01 -6.72292233e-01  6.18023872e-01 -2.36299127e-01\n",
            " -1.19644916e-02  2.23921329e-01  1.29233599e+00  9.04313207e-01\n",
            " -6.94557071e-01  2.12914035e-01  1.41126633e-01 -1.09073699e+00\n",
            " -2.61026919e-01  3.72416556e-01  5.65628767e-01 -7.63027787e-01\n",
            "  2.54305184e-01  2.96841949e-01  6.39281869e-01 -3.68396729e-01\n",
            " -1.50474742e-01 -2.06995368e-01  4.89718765e-01 -1.07649398e+00\n",
            " -4.69322115e-01  5.64345479e-01 -8.54325771e-01  2.01307580e-01\n",
            " -3.64126205e-01 -4.83238935e-01 -2.99138308e-01 -2.37890840e-01\n",
            " -7.14594960e-01  3.88846211e-02  2.88149059e-01 -8.43380928e-01\n",
            " -1.32528543e-01  3.20763916e-01 -5.64771712e-01 -6.50783837e-01\n",
            "  1.23112702e+00 -3.79267633e-01 -5.36719680e-01 -1.18963815e-01\n",
            "  5.57513535e-01  7.38234520e-01 -1.65188825e+00  4.81852829e-01\n",
            " -9.48714375e-01  9.54266250e-01  6.12537265e-01  2.52186328e-01\n",
            " -2.26502270e-01 -1.06310867e-01 -6.21923268e-01  7.16752589e-01\n",
            " -3.86202335e-01 -7.54139304e-01  5.86001039e-01 -2.63745368e-01\n",
            "  2.03416511e-01 -5.31250536e-01 -9.58163440e-01  7.24047005e-01\n",
            " -6.24142230e-01 -1.32547528e-01 -7.14519143e-01  2.18565077e-01\n",
            " -6.77283049e-01 -1.44099623e-01 -3.61371338e-01  8.55808258e-01\n",
            "  4.30026114e-01  5.20425737e-01 -1.25135827e+00  8.63300823e-03\n",
            " -8.13418090e-01 -1.89724460e-01  6.97539926e-01 -2.71261394e-01\n",
            " -9.60209727e-01 -5.67386448e-01 -1.97102308e-01 -8.45597148e-01\n",
            "  4.09596533e-01  4.65882003e-01  1.00615881e-01  1.79212570e-01\n",
            "  3.18223298e-01 -1.94156811e-01 -2.31444053e-02  5.31907916e-01\n",
            "  2.07857177e-01 -1.38748690e-01 -1.25764236e-01 -1.67028677e+00\n",
            "  7.72698075e-02  3.29649866e-01  9.59620357e-01  9.71129894e-01\n",
            " -8.59886944e-01 -7.97946930e-01 -4.50175762e-01  6.09350681e-01\n",
            " -9.92589444e-02 -1.26160502e+00 -4.80852932e-01 -4.37261760e-02\n",
            "  7.61089623e-01 -4.90453959e-01 -1.16635072e+00 -1.26680613e+00\n",
            "  4.23249871e-01 -3.28321695e-01  1.13248907e-01  1.19094634e+00\n",
            " -4.76775467e-01  2.77293086e-01 -6.62052691e-01 -6.26967311e-01\n",
            " -3.28043401e-01  4.62100208e-01  4.22706269e-02  1.11228246e-02\n",
            "  3.49017799e-01  3.41067374e-01 -2.20341772e-01 -8.18507969e-01\n",
            "  6.06628180e-01 -6.28642380e-01  2.82574117e-01  4.81881529e-01\n",
            "  1.42555881e+00 -1.52610021e-03 -5.17759144e-01 -2.46810317e-02\n",
            " -5.39778292e-01  2.85306364e-01 -2.21777275e-01 -1.85013026e-01\n",
            "  3.11430037e-01 -2.07644507e-01 -2.50214815e-01 -9.53149438e-01\n",
            "  4.12619352e-01  3.92302163e-02  1.41119614e-01 -3.55187178e-01\n",
            "  1.18068123e+00 -3.14619005e-01  4.79556561e-01 -4.70073551e-01\n",
            "  1.77135661e-01  6.75846756e-01  9.84487891e-01  2.68136382e-01\n",
            " -7.01521616e-03 -2.85394013e-01 -1.52261510e-01 -1.11626434e+00\n",
            "  1.02338955e-01  5.77064335e-01  3.41382116e-01  4.19948816e-01\n",
            "  4.03284937e-01  2.95105875e-01  9.24367070e-01  1.26249290e+00\n",
            "  1.20447111e+00  9.47556674e-01  4.87710238e-02  4.61913049e-01\n",
            " -8.18415284e-01  4.46733385e-01  6.60864949e-01  4.44435924e-01\n",
            " -9.46657538e-01  3.16685140e-01 -5.51689029e-01 -1.82610303e-01\n",
            " -1.46253079e-01 -1.01644230e+00  7.33199298e-01  1.08742797e+00\n",
            " -6.23244822e-01 -6.87371433e-01 -1.63678274e-01  2.05873683e-01\n",
            " -1.28284097e-04  1.58518434e+00 -2.15279549e-01 -3.93539935e-01\n",
            " -2.25849599e-01 -4.96900603e-02 -3.16224992e-01 -2.08421405e-02\n",
            " -7.36600161e-01  5.96843243e-01 -6.45119846e-01 -5.47669291e-01\n",
            "  1.46693259e-01 -1.00796342e+00  2.46947974e-01 -1.16965458e-01\n",
            "  1.06088710e+00  1.71408765e-02  1.60031721e-01 -1.61022954e-02\n",
            " -4.65260595e-01 -3.54802698e-01 -7.89501309e-01 -5.38767695e-01\n",
            "  4.41756785e-01 -1.14354871e-01  2.15809658e-01  3.88403893e-01\n",
            " -5.96565068e-01  6.83732152e-01  1.11033034e+00  8.61530185e-01\n",
            " -1.48576617e-01  1.11748552e+00  3.42844665e-01 -8.33448693e-02\n",
            "  3.36355381e-02  3.10089648e-01 -1.54737020e+00 -4.20448691e-01\n",
            "  8.92356262e-02 -1.90214515e-01 -7.60470182e-02 -9.25956905e-01\n",
            " -2.31245607e-01  3.78084332e-01 -9.29461837e-01 -2.05470592e-01\n",
            " -1.10454701e-01  2.51402080e-01  8.28985944e-02  4.65330213e-01\n",
            " -1.59002995e+00  1.67837292e-02 -1.03856400e-01  4.42655176e-01\n",
            "  5.59934735e-01  4.51579988e-01 -7.67551288e-02 -4.73889261e-01\n",
            " -1.16150498e+00  2.94715017e-01  2.40399525e-01  3.64251614e-01\n",
            "  5.29475033e-01  2.42441287e-03  1.62727591e-02 -1.22207269e-01\n",
            " -1.02022386e+00 -1.01030052e+00 -3.02591354e-01 -2.43044615e-01\n",
            " -7.07274437e-01  1.77668959e-01  2.10999176e-01  7.66401589e-01\n",
            "  3.03305537e-01 -9.95211583e-03 -5.04402936e-01 -5.96488178e-01\n",
            "  4.28530395e-01  7.56303295e-02  1.18148100e+00  2.74924934e-02\n",
            "  1.09997880e+00  1.69377357e-01  1.15801439e-01  7.44199395e-01\n",
            " -1.96190387e-01 -5.51071227e-01 -3.15141499e-01 -7.55082726e-01\n",
            " -5.86988807e-01  4.44423586e-01 -3.26272517e-01 -5.73183358e-01\n",
            " -4.43318665e-01  3.59878719e-01 -4.29272987e-02  8.31856728e-01\n",
            "  6.22972131e-01 -2.17173502e-01 -9.20349717e-01  9.19905305e-01\n",
            " -7.29420409e-02  5.15983701e-02 -9.65984315e-02 -1.27198890e-01\n",
            " -3.96581501e-01  4.10283133e-02  2.23800033e-01  2.97161460e-01\n",
            "  2.92265058e-01 -5.09368360e-01 -5.68877041e-01  4.27781522e-01\n",
            "  4.16459858e-01  4.65236843e-01  1.06364727e+00 -6.52427018e-01\n",
            " -8.28918457e-01  3.47217917e-02  3.42105120e-01  1.88819736e-01\n",
            "  5.04421830e-01 -2.34062195e-01  1.80037588e-01  4.29086447e-01\n",
            "  2.30354816e-01 -2.83437282e-01  2.34265327e-01 -5.11487842e-01\n",
            "  4.76539910e-01  1.56476021e-01 -1.47166401e-01 -1.02309179e+00\n",
            " -5.59815049e-01 -3.14807385e-01  1.36173014e-02  2.48336554e-01\n",
            " -5.14447272e-01 -9.95984077e-01  2.44893525e-02 -2.81416085e-02\n",
            "  2.93588370e-01 -6.17680907e-01  2.71538198e-01 -6.88657463e-01\n",
            "  5.12018323e-01 -5.74780926e-02 -2.89483160e-01 -2.38752291e-01\n",
            "  5.62781334e-01 -1.02241445e+00 -6.51534438e-01  2.27026030e-01\n",
            "  3.18954349e-01  8.17963183e-02 -5.93583062e-02 -1.17566633e+00\n",
            " -4.10219692e-02 -2.96685040e-01  5.82194090e-01 -7.70743191e-01\n",
            " -7.15866536e-02  4.76808876e-01  3.29380810e-01 -5.99578798e-01\n",
            "  5.35202026e-03 -3.21955144e-01  1.17016959e+00 -1.79935575e-01\n",
            " -5.21227717e-01 -2.49460310e-01  4.84305680e-01 -2.64464855e-01\n",
            " -2.03607470e-01  3.04992139e-01 -1.25714970e+00  7.55809188e-01\n",
            " -6.03417218e-01  8.71125832e-02 -1.06220841e-01 -5.40654123e-01\n",
            " -5.11184096e-01 -4.32209298e-02  6.84743106e-01 -9.05071855e-01\n",
            "  4.51823324e-02 -2.63025701e-01 -7.73667872e-01 -7.93841839e-01\n",
            " -3.95872891e-01  2.98928320e-02  1.12445569e+00  8.02643001e-01\n",
            " -3.85726929e-01 -7.29575753e-01  6.11615062e-01 -1.75381571e-01\n",
            " -1.70760214e-01 -1.05162525e+00  1.05050921e+00 -6.94110155e-01\n",
            "  6.68203294e-01 -1.40023768e-01  4.58646476e-01  5.88180795e-02\n",
            "  3.39238465e-01  2.20731735e-01 -4.91491139e-01  8.13485742e-01\n",
            "  1.32252121e+00  1.83043614e-01  2.82913804e-01 -4.13828433e-01\n",
            "  2.75094181e-01 -1.03679967e+00  4.73541081e-01  6.67740107e-01\n",
            " -7.56594762e-02  9.01931077e-02 -8.08836102e-01 -1.11947712e-02\n",
            " -4.65078726e-02  7.15481758e-01 -1.27313390e-01 -6.92540467e-01\n",
            " -7.13322401e-01  2.09888294e-01 -3.56735528e-01 -2.66318768e-01\n",
            " -4.60457653e-01  7.38235097e-03 -8.48066628e-01 -8.13465118e-01\n",
            "  2.13946059e-01 -5.31533599e-01 -8.76825452e-02  3.71386945e-01\n",
            "  4.14128780e-01  8.61194313e-01  8.82486776e-02  3.36408019e-01\n",
            "  8.24470446e-02  1.00937819e+00  1.82786733e-01  4.32675779e-02\n",
            "  1.73484713e-01 -1.22647071e+00 -1.27435610e-01 -7.31792808e-01\n",
            "  9.08650517e-01 -8.02065194e-01  2.60243267e-01  8.27434957e-02\n",
            "  1.52959704e-01  1.81250051e-01 -7.75716186e-01  3.96855921e-01\n",
            "  6.91959977e-01 -2.00029016e-01 -1.84013113e-01  7.82084316e-02\n",
            " -4.08993661e-01 -3.83006334e-02  8.61752808e-01 -2.74388313e-01\n",
            " -9.74843428e-02 -1.02602732e+00 -1.26833528e-01  1.11962485e+00\n",
            "  6.53883994e-01  1.42315120e-01 -4.75913376e-01 -3.21258865e-02\n",
            " -2.65988797e-01 -1.16978124e-01 -5.93443811e-01  6.56192660e-01\n",
            " -5.73521316e-01 -7.07488835e-01 -7.29677081e-01  6.20048027e-03\n",
            "  6.79842591e-01  4.15461600e-01 -3.41879755e-01  2.28170347e+00\n",
            " -1.02978492e+00  4.97357130e-01 -4.68666613e-01  1.19645071e+00\n",
            " -6.38582230e-01 -1.35883689e-01 -7.98878551e-01 -5.45745730e-01\n",
            " -4.36387241e-01 -4.08295244e-01 -2.27468684e-01 -1.78950861e-01\n",
            "  5.60197756e-02  2.35111758e-01 -8.29315782e-01  1.66122504e-02\n",
            " -8.07582080e-01 -6.34335816e-01  3.33200127e-01  2.99568087e-01\n",
            " -8.49243164e-01  5.52454107e-02  8.02987933e-01  4.63940948e-01\n",
            "  6.54758871e-01 -5.36441803e-04 -2.04843715e-01  9.76368785e-01\n",
            " -3.53016138e-01  9.11225319e-01  7.22658932e-01 -3.19766104e-01\n",
            "  2.27475569e-01 -2.76821434e-01  4.26936150e-01  3.22493821e-01\n",
            " -4.22100008e-01  2.96952128e-01  6.81849778e-01  1.47002387e+00\n",
            " -2.75381915e-02 -7.22703636e-01  3.05488352e-02 -5.42976037e-02\n",
            " -5.06122947e-01  4.57347259e-02  8.26346278e-02  4.99086052e-01\n",
            "  9.00193036e-01 -8.83195400e-01 -9.96071815e-01 -2.98155248e-01\n",
            " -4.14106667e-01 -5.26974618e-01 -5.91102839e-01 -2.92363703e-01]\n"
          ],
          "name": "stdout"
        }
      ]
    },
    {
      "cell_type": "markdown",
      "metadata": {
        "id": "QLZaLMDuGhEh"
      },
      "source": [
        "## Perform Semantic Search"
      ]
    },
    {
      "cell_type": "code",
      "metadata": {
        "id": "D6wkgQmywt0k",
        "outputId": "1de4024d-7d32-4b0d-eceb-7fb0ccb83170",
        "colab": {
          "base_uri": "https://localhost:8080/",
          "height": 221
        }
      },
      "source": [
        "import scipy\n",
        "#@title Sematic Search Form\n",
        "\n",
        "# code adapted from https://github.com/UKPLab/sentence-transformers/blob/master/examples/application_semantic_search.py\n",
        "\n",
        "query = 'Nobody has sane thoughts' #@param {type: 'string'}\n",
        "\n",
        "queries = [query]\n",
        "query_embeddings = model.encode(queries)\n",
        "\n",
        "# Find the closest 3 sentences of the corpus for each query sentence based on cosine similarity\n",
        "number_top_matches = 3 #@param {type: \"number\"}\n",
        "\n",
        "print(\"Semantic Search Results\")\n",
        "\n",
        "for query, query_embedding in zip(queries, query_embeddings):\n",
        "    distances = scipy.spatial.distance.cdist([query_embedding], sentence_embeddings, \"cosine\")[0]\n",
        "\n",
        "    results = zip(range(len(distances)), distances)\n",
        "    results = sorted(results, key=lambda x: x[1])\n",
        "\n",
        "    print(\"\\n\\n======================\\n\\n\")\n",
        "    print(\"Query:\", query)\n",
        "    print(\"\\nTop 5 most similar sentences in corpus:\")\n",
        "\n",
        "    for idx, distance in results[0:number_top_matches]:\n",
        "        print(sentences[idx].strip(), \"(Cosine Score: %.4f)\" % (1-distance))"
      ],
      "execution_count": 9,
      "outputs": [
        {
          "output_type": "stream",
          "text": [
            "Semantic Search Results\n",
            "\n",
            "\n",
            "======================\n",
            "\n",
            "\n",
            "Query: Nobody has sane thoughts\n",
            "\n",
            "Top 5 most similar sentences in corpus:\n",
            "Lack of saneness (Cosine Score: 0.8958)\n",
            "Absence of sanity (Cosine Score: 0.8744)\n",
            "A man is riding a horse. (Cosine Score: 0.1705)\n"
          ],
          "name": "stdout"
        }
      ]
    }
  ]
}