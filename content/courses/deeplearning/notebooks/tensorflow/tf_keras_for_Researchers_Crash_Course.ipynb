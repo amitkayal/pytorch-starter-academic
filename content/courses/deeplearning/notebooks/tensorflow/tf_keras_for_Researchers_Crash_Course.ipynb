{
  "nbformat": 4,
  "nbformat_minor": 0,
  "metadata": {
    "colab": {
      "name": "tf.keras for Researchers: Crash Course.ipynb",
      "provenance": [],
      "collapsed_sections": [],
      "include_colab_link": true
    },
    "kernelspec": {
      "name": "python3",
      "display_name": "Python 3"
    },
    "accelerator": "GPU"
  },
  "cells": [
    {
      "cell_type": "markdown",
      "metadata": {
        "id": "view-in-github",
        "colab_type": "text"
      },
      "source": [
        "<a href=\"https://colab.research.google.com/github/dlmacedo/starter-academic/blob/master/content/courses/deeplearning/notebooks/tensorflow/tf_keras_for_Researchers_Crash_Course.ipynb\" target=\"_parent\"><img src=\"https://colab.research.google.com/assets/colab-badge.svg\" alt=\"Open In Colab\"/></a>"
      ]
    },
    {
      "cell_type": "markdown",
      "metadata": {
        "id": "xEuWqzjlPobA"
      },
      "source": [
        "# tf.keras for Researchers: Crash Course\n",
        "\n",
        "Are you a deep learning researcher? Wondering if all this TensorFlow 2.0 stuff is relevant to you?\n",
        "\n",
        "This notebook is a crash course on everything you need to know to use TensorFlow 2.0 for deep learning research."
      ]
    },
    {
      "cell_type": "code",
      "metadata": {
        "id": "0IPokL4mivsz"
      },
      "source": [
        "try:\n",
        "  # %tensorflow_version only exists in Colab.\n",
        "  %tensorflow_version 2.x\n",
        "except Exception:\n",
        "  pass"
      ],
      "execution_count": 1,
      "outputs": []
    },
    {
      "cell_type": "code",
      "metadata": {
        "id": "rwREGJ7Wiyl9",
        "outputId": "4514fad0-d5b4-4e1e-efe0-e4f60713d4bc",
        "colab": {
          "base_uri": "https://localhost:8080/",
          "height": 51
        }
      },
      "source": [
        "import tensorflow as tf\n",
        "print(\"TensorFlow Version:\", tf.__version__)\n",
        "#print(\"GPU Available:\", tf.test.is_gpu_available())\n",
        "print(\"GPU Available:\", tf.config.list_physical_devices('GPU'))\n"
      ],
      "execution_count": 2,
      "outputs": [
        {
          "output_type": "stream",
          "text": [
            "TensorFlow Version: 2.3.0\n",
            "GPU Available: [PhysicalDevice(name='/physical_device:GPU:0', device_type='GPU')]\n"
          ],
          "name": "stdout"
        }
      ]
    },
    {
      "cell_type": "markdown",
      "metadata": {
        "id": "cttOYWBtPx9f"
      },
      "source": [
        "1) The first class you need to know is `Layer`. A Layer encapsulates a state (weights) and some computation (defined in the `call` method).\n"
      ]
    },
    {
      "cell_type": "code",
      "metadata": {
        "id": "67-lEi5tjYwd"
      },
      "source": [
        "from tensorflow.keras.layers import Layer\n",
        "\n",
        "\n",
        "class Linear(Layer):\n",
        "  \"\"\"y = w.x + b\"\"\"\n",
        "\n",
        "  def __init__(self, units=32, input_dim=32):\n",
        "      super(Linear, self).__init__()\n",
        "      w_init = tf.random_normal_initializer()\n",
        "      self.w = tf.Variable(\n",
        "          initial_value=w_init(shape=(input_dim, units), dtype='float32'),\n",
        "          trainable=True)\n",
        "      b_init = tf.zeros_initializer()\n",
        "      self.b = tf.Variable(\n",
        "          initial_value=b_init(shape=(units,), dtype='float32'),\n",
        "          trainable=True)\n",
        "\n",
        "  def call(self, inputs):\n",
        "      return tf.matmul(inputs, self.w) + self.b\n",
        "\n",
        "\n",
        "# Instantiate our layer.\n",
        "linear_layer = Linear(4, 2)\n",
        "\n",
        "# The layer can be treated as a function.\n",
        "# Here we call it on some data.\n",
        "y = linear_layer(tf.ones((2, 2)))\n",
        "assert y.shape == (2, 4)\n",
        "\n",
        "# Weights are automatically tracked under the `weights` property.\n",
        "assert linear_layer.weights == [linear_layer.w, linear_layer.b]"
      ],
      "execution_count": 3,
      "outputs": []
    },
    {
      "cell_type": "markdown",
      "metadata": {
        "id": "6O77qfbqPn06"
      },
      "source": [
        "2) The `add_weight` method gives you a shortcut for creating weights.\n",
        "\n",
        "3) It’s good practice to create weights in a separate `build` method, called lazily with the shape of the first inputs seen by your layer. Here, this pattern prevents us from having to specify `input_dim` in the constructor:\n"
      ]
    },
    {
      "cell_type": "code",
      "metadata": {
        "id": "0SnzTy1Rjyi_"
      },
      "source": [
        "class Linear(Layer):\n",
        "  \"\"\"y = w.x + b\"\"\"\n",
        "\n",
        "  def __init__(self, units=32):\n",
        "      super(Linear, self).__init__()\n",
        "      self.units = units\n",
        "\n",
        "  def build(self, input_shape):\n",
        "      self.w = self.add_weight(shape=(input_shape[-1], self.units),\n",
        "                               initializer='random_normal',\n",
        "                               trainable=True)\n",
        "      self.b = self.add_weight(shape=(self.units,),\n",
        "                               initializer='random_normal',\n",
        "                               trainable=True)\n",
        "\n",
        "  def call(self, inputs):\n",
        "      return tf.matmul(inputs, self.w) + self.b\n",
        "\n",
        "\n",
        "# Instantiate our lazy layer.\n",
        "linear_layer = Linear(4)\n",
        "\n",
        "# This will also call `build(input_shape)` and create the weights.\n",
        "y = linear_layer(tf.ones((2, 2)))"
      ],
      "execution_count": 4,
      "outputs": []
    },
    {
      "cell_type": "markdown",
      "metadata": {
        "id": "MCyO_yLFQv4I"
      },
      "source": [
        "4) You can automatically retrieve the gradients of the weights of a layer by calling it inside a `GradientTape`.  Using these gradients, you can update the weights of the layer, either manually, or using an optimizer object. Of course, you can modify the gradients before using them, if you need to."
      ]
    },
    {
      "cell_type": "code",
      "metadata": {
        "id": "UHOOlixcQ9Gl",
        "outputId": "c97a45c1-d4a3-45bb-bbd4-f419a455176c",
        "colab": {
          "base_uri": "https://localhost:8080/",
          "height": 221
        }
      },
      "source": [
        "# Prepare a dataset.\n",
        "(x_train, y_train), _ = tf.keras.datasets.mnist.load_data()\n",
        "dataset = tf.data.Dataset.from_tensor_slices(\n",
        "    (x_train.reshape(60000, 784).astype('float32') / 255, y_train))\n",
        "dataset = dataset.shuffle(buffer_size=1024).batch(64)\n",
        "\n",
        "# Instantiate our linear layer (defined above) with 10 units.\n",
        "linear_layer = Linear(10)\n",
        "\n",
        "# Instantiate a logistic loss function that expects integer targets.\n",
        "loss_fn = tf.keras.losses.SparseCategoricalCrossentropy(from_logits=True)\n",
        "\n",
        "# Instantiate an optimizer.\n",
        "optimizer = tf.keras.optimizers.SGD(learning_rate=1e-3)\n",
        "\n",
        "# Iterate over the batches of the dataset.\n",
        "for step, (x, y) in enumerate(dataset):\n",
        "  \n",
        "  # Open a GradientTape.\n",
        "  with tf.GradientTape() as tape:\n",
        "\n",
        "    # Forward pass.\n",
        "    logits = linear_layer(x)\n",
        "\n",
        "    # Loss value for this batch.\n",
        "    loss = loss_fn(y, logits)\n",
        "     \n",
        "  # Get gradients of weights wrt the loss.\n",
        "  gradients = tape.gradient(loss, linear_layer.trainable_weights)\n",
        "  \n",
        "  # Update the weights of our linear layer.\n",
        "  optimizer.apply_gradients(zip(gradients, linear_layer.trainable_weights))\n",
        "  \n",
        "  # Logging.\n",
        "  if step % 100 == 0:\n",
        "    print(step, float(loss))"
      ],
      "execution_count": 5,
      "outputs": [
        {
          "output_type": "stream",
          "text": [
            "Downloading data from https://storage.googleapis.com/tensorflow/tf-keras-datasets/mnist.npz\n",
            "11493376/11490434 [==============================] - 0s 0us/step\n",
            "0 2.443643093109131\n",
            "100 2.2281720638275146\n",
            "200 2.0924105644226074\n",
            "300 1.9746575355529785\n",
            "400 2.029876947402954\n",
            "500 2.0509586334228516\n",
            "600 1.9231698513031006\n",
            "700 1.7656233310699463\n",
            "800 1.8135193586349487\n",
            "900 1.6762666702270508\n"
          ],
          "name": "stdout"
        }
      ]
    },
    {
      "cell_type": "markdown",
      "metadata": {
        "id": "Ghnbq7zeQJ6H"
      },
      "source": [
        "5) Weights created by layers can be either trainable or non-trainable. They're exposed in `trainable_weights` and `non_trainable_weights`. Here's a layer with a non-trainable weight:"
      ]
    },
    {
      "cell_type": "code",
      "metadata": {
        "id": "TdAF5xWFj9vp",
        "outputId": "02ea52b3-44d3-4d85-9df1-f9261ab1f93d",
        "colab": {
          "base_uri": "https://localhost:8080/",
          "height": 51
        }
      },
      "source": [
        "class ComputeSum(Layer):\n",
        "  \"\"\"Returns the sum of the inputs.\"\"\"\n",
        "\n",
        "  def __init__(self, input_dim):\n",
        "      super(ComputeSum, self).__init__()\n",
        "      # Create a non-trainable weight.\n",
        "      self.total = tf.Variable(initial_value=tf.zeros((input_dim,)),\n",
        "                               trainable=False)\n",
        "\n",
        "  def call(self, inputs):\n",
        "      self.total.assign_add(tf.reduce_sum(inputs, axis=0))\n",
        "      return self.total  \n",
        "\n",
        "my_sum = ComputeSum(2)\n",
        "x = tf.ones((2, 2))\n",
        "\n",
        "y = my_sum(x)\n",
        "print(y.numpy())  # [2. 2.]\n",
        "\n",
        "y = my_sum(x)\n",
        "print(y.numpy())  # [4. 4.]\n",
        "\n",
        "assert my_sum.weights == [my_sum.total]\n",
        "assert my_sum.non_trainable_weights == [my_sum.total]\n",
        "assert my_sum.trainable_weights == []"
      ],
      "execution_count": 6,
      "outputs": [
        {
          "output_type": "stream",
          "text": [
            "[2. 2.]\n",
            "[4. 4.]\n"
          ],
          "name": "stdout"
        }
      ]
    },
    {
      "cell_type": "markdown",
      "metadata": {
        "id": "2f-IqdBvQqVW"
      },
      "source": [
        "6) Layers can be recursively nested to create bigger computation blocks. Each layer will track the weights of its sublayers (both trainable and non-trainable)."
      ]
    },
    {
      "cell_type": "code",
      "metadata": {
        "id": "4so7zVstj_Js"
      },
      "source": [
        "# Let's reuse the Linear class\n",
        "# with a `build` method that we defined above.\n",
        "\n",
        "class MLP(Layer):\n",
        "    \"\"\"Simple stack of Linear layers.\"\"\"\n",
        "\n",
        "    def __init__(self):\n",
        "        super(MLP, self).__init__()\n",
        "        self.linear_1 = Linear(32)\n",
        "        self.linear_2 = Linear(32)\n",
        "        self.linear_3 = Linear(10)\n",
        "\n",
        "    def call(self, inputs):\n",
        "        x = self.linear_1(inputs)\n",
        "        x = tf.nn.relu(x)\n",
        "        x = self.linear_2(x)\n",
        "        x = tf.nn.relu(x)\n",
        "        return self.linear_3(x)\n",
        "\n",
        "mlp = MLP()\n",
        "\n",
        "# The first call to the `mlp` object will create the weights.\n",
        "y = mlp(tf.ones(shape=(3, 64)))\n",
        "\n",
        "# Weights are recursively tracked.\n",
        "assert len(mlp.weights) == 6"
      ],
      "execution_count": 7,
      "outputs": []
    },
    {
      "cell_type": "markdown",
      "metadata": {
        "id": "Eg-3_LxhUhGX"
      },
      "source": [
        "7) Layers can create losses during the forward pass. This is especially useful for regularization losses. The losses created by sublayers are recursively tracked by the parent layers."
      ]
    },
    {
      "cell_type": "code",
      "metadata": {
        "id": "cnGNfHAWTvGe",
        "outputId": "b7b7dcc6-0c84-426a-9a1a-ec386c0bf06e",
        "colab": {
          "base_uri": "https://localhost:8080/",
          "height": 34
        }
      },
      "source": [
        "class ActivityRegularization(Layer):\n",
        "  \"\"\"Layer that creates an activity sparsity regularization loss.\"\"\"\n",
        "  \n",
        "  def __init__(self, rate=1e-2):\n",
        "    super(ActivityRegularization, self).__init__()\n",
        "    self.rate = rate\n",
        "  \n",
        "  def call(self, inputs):\n",
        "    # We use `add_loss` to create a regularization loss\n",
        "    # that depends on the inputs.\n",
        "    self.add_loss(self.rate * tf.reduce_sum(inputs))\n",
        "    return inputs\n",
        "\n",
        "\n",
        "# Let's use the loss layer in a MLP block.\n",
        "\n",
        "class SparseMLP(Layer):\n",
        "  \"\"\"Stack of Linear layers with a sparsity regularization loss.\"\"\"\n",
        "\n",
        "  def __init__(self):\n",
        "      super(SparseMLP, self).__init__()\n",
        "      self.linear_1 = Linear(32)\n",
        "      self.regularization = ActivityRegularization(1e-2)\n",
        "      self.linear_3 = Linear(10)\n",
        "\n",
        "  def call(self, inputs):\n",
        "      x = self.linear_1(inputs)\n",
        "      x = tf.nn.relu(x)\n",
        "      x = self.regularization(x)\n",
        "      return self.linear_3(x)\n",
        "    \n",
        "\n",
        "mlp = SparseMLP()\n",
        "y = mlp(tf.ones((10, 10)))\n",
        "\n",
        "print(mlp.losses)  # List containing one float32 scalar"
      ],
      "execution_count": 8,
      "outputs": [
        {
          "output_type": "stream",
          "text": [
            "[<tf.Tensor: shape=(), dtype=float32, numpy=0.2368892>]\n"
          ],
          "name": "stdout"
        }
      ]
    },
    {
      "cell_type": "markdown",
      "metadata": {
        "id": "p69GSoulV632"
      },
      "source": [
        "8) These losses are cleared by the top-level layer at the start of each forward pass -- they don't accumulate. `layer.losses` always contain only the losses created during the *last* forward pass. You would typically use these losses by summing them before computing your gradients when writing a training loop."
      ]
    },
    {
      "cell_type": "code",
      "metadata": {
        "id": "WH8alljNVj2J",
        "outputId": "27c6f061-eed1-4825-c484-b16cf8feecda",
        "colab": {
          "base_uri": "https://localhost:8080/",
          "height": 187
        }
      },
      "source": [
        "# Losses correspond to the *last* forward pass.\n",
        "mlp = SparseMLP()\n",
        "mlp(tf.ones((10, 10)))\n",
        "assert len(mlp.losses) == 1\n",
        "mlp(tf.ones((10, 10)))\n",
        "assert len(mlp.losses) == 1  # No accumulation.\n",
        "\n",
        "# Let's demonstrate how to use these losses in a training loop.\n",
        "\n",
        "# Prepare a dataset.\n",
        "(x_train, y_train), _ = tf.keras.datasets.mnist.load_data()\n",
        "dataset = tf.data.Dataset.from_tensor_slices(\n",
        "    (x_train.reshape(60000, 784).astype('float32') / 255, y_train))\n",
        "dataset = dataset.shuffle(buffer_size=1024).batch(64)\n",
        "\n",
        "# A new MLP.\n",
        "mlp = SparseMLP()\n",
        "\n",
        "# Loss and optimizer.\n",
        "loss_fn = tf.keras.losses.SparseCategoricalCrossentropy(from_logits=True)\n",
        "optimizer = tf.keras.optimizers.SGD(learning_rate=1e-3)\n",
        "\n",
        "for step, (x, y) in enumerate(dataset):\n",
        "  with tf.GradientTape() as tape:\n",
        "\n",
        "    # Forward pass.\n",
        "    logits = mlp(x)\n",
        "\n",
        "    # External loss value for this batch.\n",
        "    loss = loss_fn(y, logits)\n",
        "    \n",
        "    # Add the losses created during the forward pass.\n",
        "    loss += sum(mlp.losses)\n",
        "     \n",
        "    # Get gradients of weights wrt the loss.\n",
        "    gradients = tape.gradient(loss, mlp.trainable_weights)\n",
        "  \n",
        "  # Update the weights of our linear layer.\n",
        "  optimizer.apply_gradients(zip(gradients, mlp.trainable_weights))\n",
        "  \n",
        "  # Logging.\n",
        "  if step % 100 == 0:\n",
        "    print(step, float(loss))"
      ],
      "execution_count": 9,
      "outputs": [
        {
          "output_type": "stream",
          "text": [
            "0 5.559210777282715\n",
            "100 2.6025335788726807\n",
            "200 2.448164224624634\n",
            "300 2.359462261199951\n",
            "400 2.368046760559082\n",
            "500 2.3357951641082764\n",
            "600 2.3083670139312744\n",
            "700 2.3339591026306152\n",
            "800 2.3093857765197754\n",
            "900 2.3112738132476807\n"
          ],
          "name": "stdout"
        }
      ]
    },
    {
      "cell_type": "markdown",
      "metadata": {
        "id": "jcL_zMFtZ1R8"
      },
      "source": [
        "9) Running eagerly is great for debugging, but you will get better performance by compiling your computation into static graphs. Static graphs are a researcher's best friends. You can compile any function by wrapping it in a `tf.function` decorator."
      ]
    },
    {
      "cell_type": "code",
      "metadata": {
        "id": "2XmEPQhhY4ef",
        "outputId": "fa1a7fb2-1a1a-4af0-a4fa-a4dcd320188d",
        "colab": {
          "base_uri": "https://localhost:8080/",
          "height": 187
        }
      },
      "source": [
        "# Prepare our layer, loss, and optimizer.\n",
        "mlp = MLP()\n",
        "loss_fn = tf.keras.losses.SparseCategoricalCrossentropy(from_logits=True)\n",
        "optimizer = tf.keras.optimizers.SGD(learning_rate=1e-3)\n",
        "\n",
        "# Create a training step function.\n",
        "\n",
        "@tf.function  # Make it fast.\n",
        "def train_on_batch(x, y):\n",
        "  with tf.GradientTape() as tape:\n",
        "    logits = mlp(x)\n",
        "    loss = loss_fn(y, logits)\n",
        "    gradients = tape.gradient(loss, mlp.trainable_weights)\n",
        "  optimizer.apply_gradients(zip(gradients, mlp.trainable_weights))\n",
        "  return loss\n",
        "\n",
        "# Prepare a dataset.\n",
        "(x_train, y_train), _ = tf.keras.datasets.mnist.load_data()\n",
        "dataset = tf.data.Dataset.from_tensor_slices(\n",
        "    (x_train.reshape(60000, 784).astype('float32') / 255, y_train))\n",
        "dataset = dataset.shuffle(buffer_size=1024).batch(64)\n",
        "  \n",
        "for step, (x, y) in enumerate(dataset):\n",
        "  loss = train_on_batch(x, y)\n",
        "  if step % 100 == 0:\n",
        "    print(step, float(loss))"
      ],
      "execution_count": 10,
      "outputs": [
        {
          "output_type": "stream",
          "text": [
            "0 2.30086612701416\n",
            "100 2.2983322143554688\n",
            "200 2.303925037384033\n",
            "300 2.307629346847534\n",
            "400 2.302840232849121\n",
            "500 2.295917272567749\n",
            "600 2.3010058403015137\n",
            "700 2.3029561042785645\n",
            "800 2.31099271774292\n",
            "900 2.2984514236450195\n"
          ],
          "name": "stdout"
        }
      ]
    },
    {
      "cell_type": "markdown",
      "metadata": {
        "id": "8dNI9xczb8ej"
      },
      "source": [
        "10) Some layers, in particular the `BatchNormalization` layer and the `Dropout` layer, have different behaviors during training and inference. For such layers, it is standard practice to expose a `training` (boolean) argument in the `call` method.\n",
        "\n",
        "By exposing this argument in `call`, you enable the built-in training and evaluation loops (e.g. `fit`) to correctly use the layer in training and inference."
      ]
    },
    {
      "cell_type": "code",
      "metadata": {
        "id": "uwttOFombD1F"
      },
      "source": [
        "class Dropout(Layer):\n",
        "  \n",
        "  def __init__(self, rate):\n",
        "    super(Dropout, self).__init__()\n",
        "    self.rate = rate\n",
        "\n",
        "  @tf.function\n",
        "  def call(self, inputs, training=None):\n",
        "    # Note that the tf.function decorator enables use\n",
        "    # to use imperative control flow like this `if`,\n",
        "    # while defining a static graph!\n",
        "    if training:\n",
        "      return tf.nn.dropout(inputs, rate=self.rate)\n",
        "    return inputs\n",
        "  \n",
        "\n",
        "class MLPWithDropout(Layer):\n",
        "\n",
        "  def __init__(self):\n",
        "      super(MLPWithDropout, self).__init__()\n",
        "      self.linear_1 = Linear(32)\n",
        "      self.dropout = Dropout(0.5)\n",
        "      self.linear_3 = Linear(10)\n",
        "\n",
        "  def call(self, inputs, training=None):\n",
        "      x = self.linear_1(inputs)\n",
        "      x = tf.nn.relu(x)\n",
        "      x = self.dropout(x, training=training)\n",
        "      return self.linear_3(x)\n",
        "    \n",
        "mlp = MLPWithDropout()\n",
        "y_train = mlp(tf.ones((2, 2)), training=True)\n",
        "y_test = mlp(tf.ones((2, 2)), training=False)\n"
      ],
      "execution_count": 11,
      "outputs": []
    },
    {
      "cell_type": "markdown",
      "metadata": {
        "id": "THRG48kgmQh1"
      },
      "source": [
        "11) You have many built-in layers available, from `Dense` to `Conv2D` to `LSTM` to fancier ones like `Conv2DTranspose` or `ConvLSTM2D`. Be smart about reusing built-in functionality."
      ]
    },
    {
      "cell_type": "markdown",
      "metadata": {
        "id": "euLbXDzgnFti"
      },
      "source": [
        "12) To build deep learning models, you don't have to use object-oriented programming all the time. All layers we've seen so far can also be composed functionally, like this (we call it the \"Functional API\"):"
      ]
    },
    {
      "cell_type": "code",
      "metadata": {
        "id": "Wb9ZT-eBoBPe"
      },
      "source": [
        "# We use an `Input` object to describe the shape and dtype of the inputs.\n",
        "# This is the deep learning equivalent of *declaring a type*.\n",
        "# The shape argument is per-sample; it does not include the batch size.\n",
        "# The functional API focused on defining per-sample transformations.\n",
        "# The model we create will automatically batch the per-sample transformations,\n",
        "# so that it can be called on batches of data.\n",
        "inputs = tf.keras.Input(shape=(16,))\n",
        "\n",
        "# We call layers on these \"type\" objects\n",
        "# and they return updated types (new shapes/dtypes).\n",
        "x = Linear(32)(inputs) # We are reusing the Linear layer we defined earlier.\n",
        "x = Dropout(0.5)(x) # We are reusing the Dropout layer we defined earlier.\n",
        "outputs = Linear(10)(x)\n",
        "\n",
        "# A functional `Model` can be defined by specifying inputs and outputs.\n",
        "# A model is itself a layer like any other.\n",
        "model = tf.keras.Model(inputs, outputs)\n",
        "\n",
        "# A functional model already has weights, before being called on any data.\n",
        "# That's because we defined its input shape in advance (in `Input`).\n",
        "assert len(model.weights) == 4\n",
        "\n",
        "# Let's call our model on some data, for fun.\n",
        "y = model(tf.ones((2, 16)))\n",
        "assert y.shape == (2, 10)\n",
        "\n",
        "# You can pass a `training` argument in `__call__`\n",
        "# (it will get passed down to the Dropout layer).\n",
        "y = model(tf.ones((2, 16)), training=True)"
      ],
      "execution_count": 12,
      "outputs": []
    },
    {
      "cell_type": "markdown",
      "metadata": {
        "id": "ABcc4nAipMyp"
      },
      "source": [
        "The Functional API tends to be more concise than subclassing, and provides a few other advantages (generally the same advantages that functional, typed languages provide over untyped OO development). However, it can only be used to define DAGs of layers -- recursive networks should be defined as `Layer` subclasses instead.\n",
        "\n",
        "Learn more about the Functional API [here](https://www.tensorflow.org/alpha/guide/keras/functional).\n",
        "\n",
        "In your research workflows, you may often find yourself mix-and-matching OO models and Functional models."
      ]
    },
    {
      "cell_type": "markdown",
      "metadata": {
        "id": "XhKL2JsRqHq3"
      },
      "source": [
        "### That's all you need to get started with reimplementing most deep learning research papers in TensorFlow 2.0 and Keras!\n",
        "\n",
        "## Now for a quick research example: hypernetworks."
      ]
    },
    {
      "cell_type": "markdown",
      "metadata": {
        "id": "lFnm79N-qwP3"
      },
      "source": [
        "Let's put these concepts into practice with a simple end-to-end example.\n",
        "\n",
        "A [hypernetwork](http://blog.otoro.net/2016/09/28/hyper-networks/) is a deep neural network whose weights are generated by another network (usually smaller).\n",
        "\n",
        "Let's implement a really trivial hypernetwork: we'll take the `Linear` layer we defined earlier, and we'll use it to generate the weights of... another `Linear` layer."
      ]
    },
    {
      "cell_type": "code",
      "metadata": {
        "id": "3PlPkpKnr14L",
        "outputId": "a37eb1f3-dae1-4a0d-f889-586b9410abc8",
        "colab": {
          "base_uri": "https://localhost:8080/",
          "height": 204
        }
      },
      "source": [
        "input_dim = 784\n",
        "classes = 10\n",
        "\n",
        "# The model we'll actually use (the hypernetwork).\n",
        "outer_model = Linear(classes)\n",
        "\n",
        "# It doesn't need to create its own weights, so let's mark it as already built.\n",
        "# That way, calling `outer_model` won't create new variables.\n",
        "outer_model.built = True\n",
        "\n",
        "# The model that generates the weights of the model above.\n",
        "inner_model = Linear(input_dim * classes + classes)\n",
        "\n",
        "# Loss and optimizer.\n",
        "loss_fn = tf.keras.losses.SparseCategoricalCrossentropy(from_logits=True)\n",
        "optimizer = tf.keras.optimizers.SGD(learning_rate=1e-3)\n",
        "\n",
        "# Prepare a dataset.\n",
        "(x_train, y_train), _ = tf.keras.datasets.mnist.load_data()\n",
        "dataset = tf.data.Dataset.from_tensor_slices(\n",
        "    (x_train.reshape(60000, 784).astype('float32') / 255, y_train))\n",
        "\n",
        "# We'll use a batch size of 1 for this experiment.\n",
        "dataset = dataset.shuffle(buffer_size=1024).batch(1)\n",
        "  \n",
        "losses = []  # Keep track of the losses over time.\n",
        "for step, (x, y) in enumerate(dataset):\n",
        "  with tf.GradientTape() as tape:\n",
        "\n",
        "    # Predict weights for the outer model.\n",
        "    weights_pred = inner_model(x)\n",
        "\n",
        "    # Reshape them to the expected shapes for w and b for the outer model.\n",
        "    w_pred = tf.reshape(weights_pred[:, :-classes], (input_dim, classes))\n",
        "    b_pred = tf.reshape(weights_pred[:, -classes:], (classes,))\n",
        "    \n",
        "    # Set the weight predictions as the weight variables on the outer model.\n",
        "    outer_model.w = w_pred\n",
        "    outer_model.b = b_pred\n",
        "    \n",
        "    # Inference on the outer model.\n",
        "    preds = outer_model(x)\n",
        "    loss = loss_fn(y, preds)\n",
        "\n",
        "  # Train only inner model.\n",
        "  grads = tape.gradient(loss, inner_model.trainable_weights)\n",
        "  optimizer.apply_gradients(zip(grads, inner_model.trainable_weights))\n",
        "  \n",
        "  # Logging.\n",
        "  losses.append(float(loss))\n",
        "  if step % 100 == 0:\n",
        "    print(step, sum(losses) / len(losses))\n",
        "    \n",
        "  # Stop after 1000 steps.\n",
        "  if step >= 1000:\n",
        "    break"
      ],
      "execution_count": 13,
      "outputs": [
        {
          "output_type": "stream",
          "text": [
            "0 5.199464797973633\n",
            "100 3.8579857854651443\n",
            "200 3.084574293845313\n",
            "300 2.4670047599554628\n",
            "400 2.2896665309632125\n",
            "500 2.096606375822176\n",
            "600 1.9698132532619361\n",
            "700 1.8976418609198704\n",
            "800 1.7599892831514152\n",
            "900 1.7660174975599394\n",
            "1000 1.7109809049398752\n"
          ],
          "name": "stdout"
        }
      ]
    }
  ]
}